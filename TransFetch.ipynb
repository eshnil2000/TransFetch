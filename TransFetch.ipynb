{
  "nbformat": 4,
  "nbformat_minor": 0,
  "metadata": {
    "colab": {
      "provenance": [],
      "gpuType": "T4"
    },
    "kernelspec": {
      "name": "python3",
      "display_name": "Python 3"
    },
    "language_info": {
      "name": "python"
    },
    "accelerator": "GPU"
  },
  "cells": [
    {
      "cell_type": "code",
      "execution_count": null,
      "metadata": {
        "colab": {
          "base_uri": "https://localhost:8080/"
        },
        "id": "Sx4VPZP1RN10",
        "outputId": "f16d3aba-9108-4e46-e975-8198727d7ee1"
      },
      "outputs": [
        {
          "output_type": "stream",
          "name": "stdout",
          "text": [
            "/content\n"
          ]
        }
      ],
      "source": [
        "%cd /content/"
      ]
    },
    {
      "cell_type": "code",
      "source": [
        "!git clone https://github.com/pgroupATusc/TransFetch"
      ],
      "metadata": {
        "colab": {
          "base_uri": "https://localhost:8080/"
        },
        "id": "SaVj3WqGRPkh",
        "outputId": "68af8b86-c61b-484d-9d93-c81b3e6bf547"
      },
      "execution_count": null,
      "outputs": [
        {
          "output_type": "stream",
          "name": "stdout",
          "text": [
            "Cloning into 'TransFetch'...\n",
            "remote: Enumerating objects: 202, done.\u001b[K\n",
            "remote: Counting objects: 100% (202/202), done.\u001b[K\n",
            "remote: Compressing objects: 100% (161/161), done.\u001b[K\n",
            "remote: Total 202 (delta 50), reused 179 (delta 37), pack-reused 0\u001b[K\n",
            "Receiving objects: 100% (202/202), 7.79 MiB | 6.27 MiB/s, done.\n",
            "Resolving deltas: 100% (50/50), done.\n"
          ]
        }
      ]
    },
    {
      "cell_type": "code",
      "source": [
        "%cd /content/TransFetch/"
      ],
      "metadata": {
        "colab": {
          "base_uri": "https://localhost:8080/"
        },
        "id": "qJshwQESRbD5",
        "outputId": "02d367c6-93ad-4283-c549-f76420c5156e"
      },
      "execution_count": null,
      "outputs": [
        {
          "output_type": "stream",
          "name": "stdout",
          "text": [
            "/content/TransFetch\n"
          ]
        }
      ]
    },
    {
      "cell_type": "code",
      "source": [
        "!cp /content/drive/MyDrive/data/623.xalancbmk-s5.txt.xz .\n",
        "!xz --decompress 623.xalancbmk-s5.txt.xz"
      ],
      "metadata": {
        "id": "kyQCXXkVTCBo"
      },
      "execution_count": null,
      "outputs": []
    },
    {
      "cell_type": "code",
      "source": [
        "!cp /content/drive/MyDrive/data/trace-3rd-run-1M.out.tar.gz .\n",
        "! tar -xvf trace-3rd-run-1M.out.tar.gz\n",
        "!cp trace-3rd-run-1M.out in.txt"
      ],
      "metadata": {
        "colab": {
          "base_uri": "https://localhost:8080/"
        },
        "id": "DnyzB58QTG7y",
        "outputId": "bc58b634-83bb-4f1f-dff0-8cb7ec111e84"
      },
      "execution_count": null,
      "outputs": [
        {
          "output_type": "stream",
          "name": "stdout",
          "text": [
            "trace-3rd-run-1M.out\n"
          ]
        }
      ]
    },
    {
      "cell_type": "code",
      "source": [
        "!cp 623.xalancbmk-s5.txt testxalanc.txt"
      ],
      "metadata": {
        "id": "16WmWd2VTZ51"
      },
      "execution_count": null,
      "outputs": []
    },
    {
      "cell_type": "code",
      "source": [
        "!head -741262 trace-3rd-run-1M.out >test_temp.txt"
      ],
      "metadata": {
        "id": "_417QuPqTaGW"
      },
      "execution_count": null,
      "outputs": []
    },
    {
      "cell_type": "code",
      "source": [
        "!wc -l testxalanc.txt test_temp.txt"
      ],
      "metadata": {
        "colab": {
          "base_uri": "https://localhost:8080/"
        },
        "id": "cmiOT_kyTaNw",
        "outputId": "7d5b7bc5-f027-4601-a1e2-357c6f767861"
      },
      "execution_count": null,
      "outputs": [
        {
          "output_type": "stream",
          "name": "stdout",
          "text": [
            "  741261 testxalanc.txt\n",
            "  741262 test_temp.txt\n",
            " 1482523 total\n"
          ]
        }
      ]
    },
    {
      "cell_type": "code",
      "source": [],
      "metadata": {
        "id": "9VgzYNu_UcEP"
      },
      "execution_count": null,
      "outputs": []
    },
    {
      "cell_type": "code",
      "source": [
        "!sed '1d' test_temp.txt >test.txt"
      ],
      "metadata": {
        "id": "g5Tz3RHkTaXx"
      },
      "execution_count": null,
      "outputs": []
    },
    {
      "cell_type": "code",
      "source": [
        "import re\n",
        "import csv\n",
        "import random\n",
        "\n",
        "infile='test.txt'\n",
        "infile_xalanc= 'testxalanc.txt'\n",
        "\n",
        "outfile='output.txt'\n",
        "UID=[]\n",
        "INST=[]\n",
        "I=[]\n",
        "# Read the data from the file\n",
        "with open(infile, 'r') as file:\n",
        "    data = file.readlines()\n",
        "with open(infile_xalanc, 'r') as filexalanc:\n",
        "    dataxalanc = filexalanc.readlines()\n",
        "var=0\n",
        "pattern = r'ts=(\\d+)\\s+pid=(\\d+)\\s+inst=(\\d+)\\s+cpuid=(\\d+)\\s+rip=([\\da-fx]+)\\s+va=([\\da-fx]+)'\n",
        "i=4\n",
        "# Prepare the CSV data\n",
        "csv_data = []\n",
        "for line, linexalanc in zip(data, dataxalanc):\n",
        "#for line in data:\n",
        "    #print(line)\n",
        "    #print(linexalanc)\n",
        "    #match = re.match(r'ts=(\\d+) mstress pid=(\\d+)  inst=(\\d+) cpuid=(\\d+) rip=([a-f\\d]+) va=([a-f\\d]+)', line)\n",
        "    match = re.match(pattern, line)\n",
        "    instr_ptr=linexalanc.split(sep=',')[3]\n",
        "    uid=linexalanc.split(sep=',')[0]\n",
        "    UID.append(uid)\n",
        "    I.append(i)\n",
        "    #print(linexalanc.split()[3])\n",
        "    if match:\n",
        "        #print('match')\n",
        "        ts, pid, inst, cpuid, rip, va = match.groups()\n",
        "\n",
        "        INST.append(inst)\n",
        "        #csv_data.append([ts, pid, inst, cpuid, rip, '0x'+va])\n",
        "        #csv_data.append(['0x'+va+\":\",'R', '0x'+va])\n",
        "        #csv_data.append([va+\":\",'R', va])\n",
        "        # Convert the hexadecimal address to an integer\n",
        "        addr_int = int(va, 16)\n",
        "\n",
        "        # Shift the address right by 12 bits\n",
        "        shifted_addr_int = addr_int >> 12\n",
        "\n",
        "        # Convert the shifted integer address back to hexadecimal format\n",
        "        shifted_addr_hex = hex(shifted_addr_int)\n",
        "        #shifted_addr_hex=va\n",
        "        #csv_data.append([ts, pid, inst, cpuid, rip, '0x'+va])\n",
        "        #Format Unique Instr Id, Cycle Count, Load Address, Instruction Pointer of the Load, LLC hit/miss\n",
        "        #sample 4, 15, 28e837c88340, 406a82, 0\n",
        "        modified_shifted_addr_hex = shifted_addr_hex.replace('0x', '')\n",
        "        rip= rip.replace('0x', '')\n",
        "        #print(\"shifted_addr_hex\",shifted_addr_hex,\"modified_shifted_addr_hex\", modified_shifted_addr_hex)\n",
        "        #increment = random.randint(increment_min, increment_max)\n",
        "        #current_value += increment\n",
        "        #increment2 = random.randint(increment_min2, increment_max2)\n",
        "        #current_value2 += increment2\n",
        "\n",
        "        #csv_data.append([str(current_value2), ' '+str(current_value), ' '+str(modified_shifted_addr_hex), ' '+str(random.choice(values)), ' '+str(0)])\n",
        "        #Unique Instr ID = inst, Cycle Count = ts, Load Address = va >>12, Intruction Pointer of Load = rip, LLC hit/miss = R/W\n",
        "        #csv_data.append([str(inst), ' '+str(ts), ' '+str(modified_shifted_addr_hex), ' '+str(rip), ' '+str(0)])\n",
        "        csv_data.append([str(uid), ' '+str(ts), ' '+str(modified_shifted_addr_hex), ' '+str(rip), ' '+str(0)])\n",
        "        #csv_data.append([str(i), ' '+str(ts), ' '+str(modified_shifted_addr_hex), ' '+str(rip), ' '+str(0)])\n",
        "        i=i+1\n",
        "\n",
        "# Write CSV data to a file\n",
        "with open(outfile, 'w', newline='') as csvfile:\n",
        "    csv_writer = csv.writer(csvfile,delimiter=\",\")\n",
        "    #csv_writer.writerow(['ts', 'pid', 'inst', 'cpuid', 'rip', 'va'])\n",
        "    csv_writer.writerows(csv_data)\n",
        "    print(\"csv_data\",csv_data)\n",
        "\n",
        "\n",
        "print(\"CSV conversion completed.\")"
      ],
      "metadata": {
        "colab": {
          "base_uri": "https://localhost:8080/"
        },
        "id": "o7Iio6OuXdsn",
        "outputId": "ea9c707e-42f8-41d3-84f8-66845fd31004"
      },
      "execution_count": null,
      "outputs": [
        {
          "output_type": "stream",
          "name": "stdout",
          "text": [
            "csv_data "
          ]
        },
        {
          "output_type": "stream",
          "name": "stderr",
          "text": [
            "IOPub data rate exceeded.\n",
            "The notebook server will temporarily stop sending output\n",
            "to the client in order to avoid crashing it.\n",
            "To change this limit, set the config variable\n",
            "`--NotebookApp.iopub_data_rate_limit`.\n",
            "\n",
            "Current values:\n",
            "NotebookApp.iopub_data_rate_limit=1000000.0 (bytes/sec)\n",
            "NotebookApp.rate_limit_window=3.0 (secs)\n",
            "\n"
          ]
        }
      ]
    },
    {
      "cell_type": "code",
      "source": [
        "!pip install einops"
      ],
      "metadata": {
        "colab": {
          "base_uri": "https://localhost:8080/"
        },
        "id": "AeXzgLbrUnEs",
        "outputId": "0c35a12c-2100-4d6f-946b-ba11d7a38413"
      },
      "execution_count": null,
      "outputs": [
        {
          "output_type": "stream",
          "name": "stdout",
          "text": [
            "Collecting einops\n",
            "  Downloading einops-0.6.1-py3-none-any.whl (42 kB)\n",
            "\u001b[?25l     \u001b[90m━━━━━━━━━━━━━━━━━━━━━━━━━━━━━━━━━━━━━━━━\u001b[0m \u001b[32m0.0/42.2 kB\u001b[0m \u001b[31m?\u001b[0m eta \u001b[36m-:--:--\u001b[0m\r\u001b[2K     \u001b[90m━━━━━━━━━━━━━━━━━━━━━━━━━━━━━━━━━━━━━━━━\u001b[0m \u001b[32m42.2/42.2 kB\u001b[0m \u001b[31m1.2 MB/s\u001b[0m eta \u001b[36m0:00:00\u001b[0m\n",
            "\u001b[?25hInstalling collected packages: einops\n",
            "Successfully installed einops-0.6.1\n"
          ]
        }
      ]
    },
    {
      "cell_type": "code",
      "source": [
        "!rm -rf ./res"
      ],
      "metadata": {
        "id": "eSl2AHotUywq"
      },
      "execution_count": null,
      "outputs": []
    },
    {
      "cell_type": "code",
      "source": [
        "!./run_train.sh"
      ],
      "metadata": {
        "colab": {
          "base_uri": "https://localhost:8080/"
        },
        "id": "NIflPqSRTkLs",
        "outputId": "7c3e9b6a-847f-4ffb-bdd9-9885aa5058f4"
      },
      "execution_count": null,
      "outputs": [
        {
          "output_type": "stream",
          "name": "stdout",
          "text": [
            "TRAIN/VAL/TEST/SKIP: 2/1/2/0\n",
            "testxalanc.txt\n",
            ".//testxalanc.txt\n",
            "train and validation\n",
            "preprocessing with context\n",
            "preprocessing with context\n",
            "-------------Data Proccessed------------\n",
            "Epoch: 1 - loss: 0.6136854854 - test_loss: 0.4747471511\n",
            "-------- Save Best Model! --------\n",
            "Epoch: 2 - loss: 0.4153436902 - test_loss: 0.3358076215\n",
            "-------- Save Best Model! --------\n",
            "Epoch: 3 - loss: 0.3120784743 - test_loss: 0.2473185509\n",
            "-------- Save Best Model! --------\n",
            "Epoch: 4 - loss: 0.2443815867 - test_loss: 0.1882347067\n",
            "-------- Save Best Model! --------\n",
            "Epoch: 5 - loss: 0.2005022723 - test_loss: 0.1489560952\n",
            "-------- Save Best Model! --------\n",
            "Epoch: 6 - loss: 0.1717816393 - test_loss: 0.1226063569\n",
            "-------- Save Best Model! --------\n",
            "Epoch: 7 - loss: 0.1528032530 - test_loss: 0.1043812086\n",
            "-------- Save Best Model! --------\n",
            "Epoch: 8 - loss: 0.1403050870 - test_loss: 0.0914771234\n",
            "-------- Save Best Model! --------\n",
            "Epoch: 9 - loss: 0.1322252448 - test_loss: 0.0822092195\n",
            "-------- Save Best Model! --------\n",
            "Epoch: 10 - loss: 0.1259361092 - test_loss: 0.0753891617\n",
            "-------- Save Best Model! --------\n",
            "Epoch: 11 - loss: 0.1210075041 - test_loss: 0.0702805842\n",
            "-------- Save Best Model! --------\n",
            "Epoch: 12 - loss: 0.1177951056 - test_loss: 0.0663440029\n",
            "-------- Save Best Model! --------\n",
            "Epoch: 13 - loss: 0.1148459133 - test_loss: 0.0632057587\n",
            "-------- Save Best Model! --------\n",
            "Epoch: 14 - loss: 0.1129628867 - test_loss: 0.0611677182\n",
            "-------- Save Best Model! --------\n",
            "Epoch: 15 - loss: 0.1108297946 - test_loss: 0.0596737874\n",
            "-------- Save Best Model! --------\n",
            "Epoch: 16 - loss: 0.1067258434 - test_loss: 0.0603627053\n",
            "Early Stop Left: 4\n",
            "Epoch: 17 - loss: 0.0937509992 - test_loss: 0.0545695424\n",
            "-------- Save Best Model! --------\n",
            "Epoch: 18 - loss: 0.0870099316 - test_loss: 0.0524341141\n",
            "-------- Save Best Model! --------\n",
            "Epoch: 19 - loss: 0.0853773070 - test_loss: 0.0487970250\n",
            "-------- Save Best Model! --------\n",
            "Epoch: 20 - loss: 0.0818756653 - test_loss: 0.0470482856\n",
            "-------- Save Best Model! --------\n",
            "Epoch: 21 - loss: 0.0799878683 - test_loss: 0.0457727934\n",
            "-------- Save Best Model! --------\n",
            "Epoch: 22 - loss: 0.0788090833 - test_loss: 0.0451216201\n",
            "-------- Save Best Model! --------\n",
            "Epoch: 23 - loss: 0.0779028469 - test_loss: 0.0439494972\n",
            "-------- Save Best Model! --------\n",
            "Epoch: 24 - loss: 0.0768927414 - test_loss: 0.0431572509\n",
            "-------- Save Best Model! --------\n",
            "Epoch: 25 - loss: 0.0760600703 - test_loss: 0.0428192317\n",
            "-------- Save Best Model! --------\n",
            "Epoch: 26 - loss: 0.0750390535 - test_loss: 0.0423982690\n",
            "-------- Save Best Model! --------\n",
            "Epoch: 27 - loss: 0.0743311408 - test_loss: 0.0417296042\n",
            "-------- Save Best Model! --------\n",
            "Epoch: 28 - loss: 0.0735867338 - test_loss: 0.0414189845\n",
            "-------- Save Best Model! --------\n",
            "Epoch: 29 - loss: 0.0733286113 - test_loss: 0.0407461276\n",
            "-------- Save Best Model! --------\n",
            "Epoch: 30 - loss: 0.0731344542 - test_loss: 0.0410250090\n",
            "Early Stop Left: 4\n",
            "Epoch: 31 - loss: 0.0730250275 - test_loss: 0.0406469442\n",
            "-------- Save Best Model! --------\n",
            "Epoch: 32 - loss: 0.0719905148 - test_loss: 0.0402097926\n",
            "-------- Save Best Model! --------\n",
            "Epoch: 33 - loss: 0.0715579457 - test_loss: 0.0400619333\n",
            "-------- Save Best Model! --------\n",
            "Epoch: 34 - loss: 0.0712018733 - test_loss: 0.0400686661\n",
            "Early Stop Left: 4\n",
            "Epoch: 35 - loss: 0.0707422656 - test_loss: 0.0395375925\n",
            "-------- Save Best Model! --------\n",
            "Epoch: 36 - loss: 0.0706196098 - test_loss: 0.0397014109\n",
            "Early Stop Left: 4\n",
            "Epoch: 37 - loss: 0.0710038539 - test_loss: 0.0391919067\n",
            "-------- Save Best Model! --------\n",
            "Epoch: 38 - loss: 0.0714509744 - test_loss: 0.0406509005\n",
            "Early Stop Left: 4\n",
            "Epoch: 39 - loss: 0.0707218432 - test_loss: 0.0392363518\n",
            "Early Stop Left: 3\n",
            "Epoch: 40 - loss: 0.0702140424 - test_loss: 0.0387606521\n",
            "-------- Save Best Model! --------\n",
            "Epoch: 41 - loss: 0.0703448558 - test_loss: 0.0387677277\n",
            "Early Stop Left: 4\n",
            "Epoch: 42 - loss: 0.0696567268 - test_loss: 0.0387226380\n",
            "-------- Save Best Model! --------\n",
            "Epoch: 43 - loss: 0.0696614902 - test_loss: 0.0387529309\n",
            "Early Stop Left: 4\n",
            "Epoch: 44 - loss: 0.0693168725 - test_loss: 0.0387278261\n",
            "Early Stop Left: 3\n",
            "Epoch: 45 - loss: 0.0691399678 - test_loss: 0.0386989315\n",
            "-------- Save Best Model! --------\n",
            "Epoch: 46 - loss: 0.0696853323 - test_loss: 0.0392423061\n",
            "Early Stop Left: 4\n",
            "Epoch: 47 - loss: 0.0696476917 - test_loss: 0.0386099455\n",
            "-------- Save Best Model! --------\n",
            "Epoch: 48 - loss: 0.0693758283 - test_loss: 0.0389785568\n",
            "Early Stop Left: 4\n",
            "Epoch: 49 - loss: 0.0688630206 - test_loss: 0.0385458333\n",
            "-------- Save Best Model! --------\n",
            "Epoch: 50 - loss: 0.0690608252 - test_loss: 0.0386822733\n",
            "Early Stop Left: 4\n",
            "Epoch: 51 - loss: 0.0686040839 - test_loss: 0.0384025313\n",
            "-------- Save Best Model! --------\n",
            "Epoch: 52 - loss: 0.0684846770 - test_loss: 0.0386998144\n",
            "Early Stop Left: 4\n",
            "Epoch: 53 - loss: 0.0684436065 - test_loss: 0.0386913382\n",
            "Early Stop Left: 3\n",
            "Epoch: 54 - loss: 0.0691384189 - test_loss: 0.0389079017\n",
            "Early Stop Left: 2\n",
            "Epoch: 55 - loss: 0.0684788823 - test_loss: 0.0382364107\n",
            "-------- Save Best Model! --------\n",
            "Epoch: 56 - loss: 0.0683371859 - test_loss: 0.0387073718\n",
            "Early Stop Left: 4\n",
            "Epoch: 57 - loss: 0.0684467850 - test_loss: 0.0386386377\n",
            "Early Stop Left: 3\n",
            "Epoch: 58 - loss: 0.0681929321 - test_loss: 0.0386677310\n",
            "Early Stop Left: 2\n",
            "Epoch: 59 - loss: 0.0689439678 - test_loss: 0.0385923969\n",
            "Early Stop Left: 1\n",
            "Epoch: 60 - loss: 0.0682642344 - test_loss: 0.0383891997\n",
            "Early Stop Left: 0\n",
            "-------- Early Stop! --------\n",
            "Validation start\n",
            "predicting\n",
            "100% 3/3 [00:00<00:00, 76.01it/s]\n",
            "throttleing by precision-recall curve\n",
            "Best micro threshold=0.104753, fscore=0.182\n",
            "p,r,f1: 0.17212543554006968 0.19117647058823528 0.18115144847818115\n",
            "throttleing by fixed threshold: 0.5\n",
            "p,r,f1: 0.0 0.0 0.0\n",
            "Done: results saved at: ./res/1_trans_128_cx/train/testxalanc.txt.model.pth.val_res.csv\n",
            "Generation start\n",
            "preprocessing_gen with context\n",
            "predicting\n",
            "100% 11/11 [00:00<00:00, 86.83it/s]\n",
            "post_processing, opt_threshold<0.9\n",
            "              app  ...  median\n",
            "0  testxalanc.txt  ...     2.0\n",
            "\n",
            "[1 rows x 5 columns]\n",
            "Done: results saved at: ./res/1_trans_128_cx/train/testxalanc.txt.model.pth.degree_stats.csv\n",
            "done for app testxalanc.txt\n"
          ]
        }
      ]
    },
    {
      "cell_type": "code",
      "source": [],
      "metadata": {
        "id": "Wz7VaEAQUnbl"
      },
      "execution_count": null,
      "outputs": []
    },
    {
      "cell_type": "code",
      "source": [],
      "metadata": {
        "id": "RB1FfiL5UnWj"
      },
      "execution_count": null,
      "outputs": []
    }
  ]
}