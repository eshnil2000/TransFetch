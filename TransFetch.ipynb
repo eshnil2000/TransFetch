{
  "nbformat": 4,
  "nbformat_minor": 0,
  "metadata": {
    "colab": {
      "provenance": [],
      "gpuType": "T4"
    },
    "kernelspec": {
      "name": "python3",
      "display_name": "Python 3"
    },
    "language_info": {
      "name": "python"
    },
    "accelerator": "GPU"
  },
  "cells": [
    {
      "cell_type": "code",
      "source": [
        "!pwd\n",
        "!ls"
      ],
      "metadata": {
        "colab": {
          "base_uri": "https://localhost:8080/"
        },
        "id": "ZDYTf3oUS1hf",
        "outputId": "33b17a45-d7f6-40ef-b02f-9f5dd6212de4"
      },
      "execution_count": 1,
      "outputs": [
        {
          "output_type": "stream",
          "name": "stdout",
          "text": [
            "/content\n",
            "drive  sample_data  TransFetch\n"
          ]
        }
      ]
    },
    {
      "cell_type": "code",
      "execution_count": 2,
      "metadata": {
        "colab": {
          "base_uri": "https://localhost:8080/"
        },
        "id": "Sx4VPZP1RN10",
        "outputId": "8c855a78-d91d-409e-d958-4496f9438f58"
      },
      "outputs": [
        {
          "output_type": "stream",
          "name": "stdout",
          "text": [
            "/content\n"
          ]
        }
      ],
      "source": [
        "%cd /content/"
      ]
    },
    {
      "cell_type": "code",
      "source": [
        "!rm -rf TransFetch/"
      ],
      "metadata": {
        "id": "W7DFy06dR8S7"
      },
      "execution_count": 3,
      "outputs": []
    },
    {
      "cell_type": "code",
      "source": [
        "!git clone https://github.com/eshnil2000/TransFetch"
      ],
      "metadata": {
        "colab": {
          "base_uri": "https://localhost:8080/"
        },
        "id": "SaVj3WqGRPkh",
        "outputId": "66d31e35-399b-48b5-8b07-e4455f10c023"
      },
      "execution_count": 4,
      "outputs": [
        {
          "output_type": "stream",
          "name": "stdout",
          "text": [
            "Cloning into 'TransFetch'...\n",
            "remote: Enumerating objects: 208, done.\u001b[K\n",
            "remote: Counting objects: 100% (208/208), done.\u001b[K\n",
            "remote: Compressing objects: 100% (167/167), done.\u001b[K\n",
            "remote: Total 208 (delta 53), reused 178 (delta 37), pack-reused 0\u001b[K\n",
            "Receiving objects: 100% (208/208), 7.79 MiB | 19.32 MiB/s, done.\n",
            "Resolving deltas: 100% (53/53), done.\n"
          ]
        }
      ]
    },
    {
      "cell_type": "code",
      "source": [
        "%cd /content/TransFetch/"
      ],
      "metadata": {
        "colab": {
          "base_uri": "https://localhost:8080/"
        },
        "id": "qJshwQESRbD5",
        "outputId": "f612062a-35c0-4484-ae69-d645630cde15"
      },
      "execution_count": 5,
      "outputs": [
        {
          "output_type": "stream",
          "name": "stdout",
          "text": [
            "/content/TransFetch\n"
          ]
        }
      ]
    },
    {
      "cell_type": "code",
      "source": [
        "!cp /content/drive/MyDrive/data/623.xalancbmk-s5.txt.xz .\n",
        "!xz --decompress 623.xalancbmk-s5.txt.xz"
      ],
      "metadata": {
        "id": "kyQCXXkVTCBo"
      },
      "execution_count": 6,
      "outputs": []
    },
    {
      "cell_type": "code",
      "source": [
        "!cp /content/drive/MyDrive/data/trace-3rd-run-1M.out.tar.gz .\n",
        "! tar -xvf trace-3rd-run-1M.out.tar.gz\n",
        "!cp trace-3rd-run-1M.out in.txt"
      ],
      "metadata": {
        "colab": {
          "base_uri": "https://localhost:8080/"
        },
        "id": "DnyzB58QTG7y",
        "outputId": "b9ca5b9c-d118-45e4-a5b4-f5ad1b9e6d2e"
      },
      "execution_count": 14,
      "outputs": [
        {
          "output_type": "stream",
          "name": "stdout",
          "text": [
            "trace-3rd-run-1M.out\n"
          ]
        }
      ]
    },
    {
      "cell_type": "code",
      "source": [
        "!cp 623.xalancbmk-s5.txt testxalanc.txt"
      ],
      "metadata": {
        "id": "16WmWd2VTZ51"
      },
      "execution_count": 16,
      "outputs": []
    },
    {
      "cell_type": "code",
      "source": [
        "!head -741262 trace-3rd-run-1M.out >test_temp.txt"
      ],
      "metadata": {
        "id": "_417QuPqTaGW"
      },
      "execution_count": 31,
      "outputs": []
    },
    {
      "cell_type": "code",
      "source": [
        "!wc -l testxalanc.txt test_temp.txt"
      ],
      "metadata": {
        "colab": {
          "base_uri": "https://localhost:8080/"
        },
        "id": "cmiOT_kyTaNw",
        "outputId": "bc84d5da-f489-4523-e8c9-9355d953df6a"
      },
      "execution_count": 32,
      "outputs": [
        {
          "output_type": "stream",
          "name": "stdout",
          "text": [
            "  741261 testxalanc.txt\n",
            "  741262 test_temp.txt\n",
            " 1482523 total\n"
          ]
        }
      ]
    },
    {
      "cell_type": "code",
      "source": [
        "!cp trace-3rd-run-1M.out test_temp.txt"
      ],
      "metadata": {
        "id": "9VgzYNu_UcEP"
      },
      "execution_count": 15,
      "outputs": []
    },
    {
      "cell_type": "code",
      "source": [
        "!sed '1d' test_temp.txt >test.txt"
      ],
      "metadata": {
        "id": "g5Tz3RHkTaXx"
      },
      "execution_count": 33,
      "outputs": []
    },
    {
      "cell_type": "code",
      "source": [
        "!head -5 test.txt"
      ],
      "metadata": {
        "colab": {
          "base_uri": "https://localhost:8080/"
        },
        "id": "swKqqdfYYPMz",
        "outputId": "8c4e459b-0042-49d5-baf6-922b60c7b8a3"
      },
      "execution_count": 34,
      "outputs": [
        {
          "output_type": "stream",
          "name": "stdout",
          "text": [
            "ts=1988336 pid=745  inst=1835086430414849 cpuid=1 rip=0x559352c81b92 va=0x7fd244d2fc30\n",
            "ts=1988336 pid=745  inst=1835086448240641 cpuid=1 rip=0x559352c81b92 va=0x7fd244d2e9b0\n",
            "ts=1988336 pid=745  inst=1835086452482561 cpuid=1 rip=0x559352c81b92 va=0x7fd244d2d730\n",
            "ts=1988336 pid=745  inst=1835086457245697 cpuid=1 rip=0x559352c81b92 va=0x7fd244d2bb70\n",
            "ts=1988336 pid=745  inst=1835086462264321 cpuid=1 rip=0x559352c81b92 va=0x7fd244d29fb0\n"
          ]
        }
      ]
    },
    {
      "cell_type": "code",
      "source": [
        "import re\n",
        "import csv\n",
        "import random\n",
        "\n",
        "infile='test.txt'\n",
        "infile_xalanc= 'testxalanc.txt'\n",
        "\n",
        "outfile='output.txt'\n",
        "UID=[]\n",
        "INST=[]\n",
        "I=[]\n",
        "# Read the data from the file\n",
        "with open(infile, 'r') as file:\n",
        "    data = file.readlines()\n",
        "with open(infile_xalanc, 'r') as filexalanc:\n",
        "    dataxalanc = filexalanc.readlines()\n",
        "var=0\n",
        "pattern = r'ts=(\\d+)\\s+pid=(\\d+)\\s+inst=(\\d+)\\s+cpuid=(\\d+)\\s+rip=([\\da-fx]+)\\s+va=([\\da-fx]+)'\n",
        "i=4\n",
        "# Prepare the CSV data\n",
        "csv_data = []\n",
        "for line, linexalanc in zip(data, dataxalanc):\n",
        "#for line in data:\n",
        "    #print(line)\n",
        "    #print(linexalanc)\n",
        "    #match = re.match(r'ts=(\\d+) mstress pid=(\\d+)  inst=(\\d+) cpuid=(\\d+) rip=([a-f\\d]+) va=([a-f\\d]+)', line)\n",
        "    match = re.match(pattern, line)\n",
        "    #instr_ptr=linexalanc.split(sep=',')[3]\n",
        "    uid=linexalanc.split(sep=',')[0]\n",
        "    UID.append(uid)\n",
        "    I.append(i)\n",
        "    #print(linexalanc.split()[3])\n",
        "    if match:\n",
        "        #print('match')\n",
        "        ts, pid, inst, cpuid, rip, va = match.groups()\n",
        "\n",
        "        INST.append(inst)\n",
        "        #csv_data.append([ts, pid, inst, cpuid, rip, '0x'+va])\n",
        "        #csv_data.append(['0x'+va+\":\",'R', '0x'+va])\n",
        "        #csv_data.append([va+\":\",'R', va])\n",
        "        # Convert the hexadecimal address to an integer\n",
        "        addr_int = int(va, 16)\n",
        "\n",
        "        # Shift the address right by 12 bits\n",
        "        shifted_addr_int = addr_int >> 12\n",
        "\n",
        "        # Convert the shifted integer address back to hexadecimal format\n",
        "        shifted_addr_hex = hex(shifted_addr_int)\n",
        "        #shifted_addr_hex=va\n",
        "        #csv_data.append([ts, pid, inst, cpuid, rip, '0x'+va])\n",
        "        #Format Unique Instr Id, Cycle Count, Load Address, Instruction Pointer of the Load, LLC hit/miss\n",
        "        #sample 4, 15, 28e837c88340, 406a82, 0\n",
        "        modified_shifted_addr_hex = shifted_addr_hex.replace('0x', '')\n",
        "        rip= rip.replace('0x', '')\n",
        "        #print(\"shifted_addr_hex\",shifted_addr_hex,\"modified_shifted_addr_hex\", modified_shifted_addr_hex)\n",
        "        #increment = random.randint(increment_min, increment_max)\n",
        "        #current_value += increment\n",
        "        #increment2 = random.randint(increment_min2, increment_max2)\n",
        "        #current_value2 += increment2\n",
        "\n",
        "        #csv_data.append([str(current_value2), ' '+str(current_value), ' '+str(modified_shifted_addr_hex), ' '+str(random.choice(values)), ' '+str(0)])\n",
        "        #Unique Instr ID = inst, Cycle Count = ts, Load Address = va >>12, Intruction Pointer of Load = rip, LLC hit/miss = R/W\n",
        "        #csv_data.append([str(inst), ' '+str(ts), ' '+str(modified_shifted_addr_hex), ' '+str(rip), ' '+str(0)])\n",
        "        csv_data.append([str(uid), ' '+str(ts), ' '+str(modified_shifted_addr_hex), ' '+str(rip), ' '+str(0)])\n",
        "        #csv_data.append([str(i), ' '+str(ts), ' '+str(modified_shifted_addr_hex), ' '+str(rip), ' '+str(0)])\n",
        "        i=i+1\n",
        "\n",
        "# Write CSV data to a file\n",
        "with open(outfile, 'w', newline='') as csvfile:\n",
        "    csv_writer = csv.writer(csvfile,delimiter=\",\")\n",
        "    #csv_writer.writerow(['ts', 'pid', 'inst', 'cpuid', 'rip', 'va'])\n",
        "    csv_writer.writerows(csv_data)\n",
        "    print(\"csv_data\",csv_data)\n",
        "\n",
        "\n",
        "print(\"CSV conversion completed.\")"
      ],
      "metadata": {
        "colab": {
          "base_uri": "https://localhost:8080/"
        },
        "id": "o7Iio6OuXdsn",
        "outputId": "e29a709c-0ded-4e3d-efe5-a8c4a62fe4ef"
      },
      "execution_count": 35,
      "outputs": [
        {
          "output_type": "stream",
          "name": "stderr",
          "text": [
            "IOPub data rate exceeded.\n",
            "The notebook server will temporarily stop sending output\n",
            "to the client in order to avoid crashing it.\n",
            "To change this limit, set the config variable\n",
            "`--NotebookApp.iopub_data_rate_limit`.\n",
            "\n",
            "Current values:\n",
            "NotebookApp.iopub_data_rate_limit=1000000.0 (bytes/sec)\n",
            "NotebookApp.rate_limit_window=3.0 (secs)\n",
            "\n"
          ]
        }
      ]
    },
    {
      "cell_type": "code",
      "source": [
        "!head -5 testxalanc.txt"
      ],
      "metadata": {
        "colab": {
          "base_uri": "https://localhost:8080/"
        },
        "id": "3FVDWeLkZUJJ",
        "outputId": "25552a2e-6ba4-440f-b260-d1193848fabf"
      },
      "execution_count": 36,
      "outputs": [
        {
          "output_type": "stream",
          "name": "stdout",
          "text": [
            "4, 15, 28e837c88340, 406a82, 0\n",
            "7, 261, 28e837c86f40, 406a8e, 0\n",
            "17, 277, fdfd3a8c3bc0, 406abc, 0\n",
            "29, 278, fdfd3a8c4200, 7b5749, 0\n",
            "18, 610, fdfd3a8c5d80, 406abf, 0\n"
          ]
        }
      ]
    },
    {
      "cell_type": "code",
      "source": [
        "!head -5 output.txt"
      ],
      "metadata": {
        "colab": {
          "base_uri": "https://localhost:8080/"
        },
        "id": "L47dgYaaX7ZZ",
        "outputId": "692cef00-74b4-4101-919c-5a26a7ac06e1"
      },
      "execution_count": 37,
      "outputs": [
        {
          "output_type": "stream",
          "name": "stdout",
          "text": [
            "4, 1988336, 7fd244d2f, 559352c81b92, 0\r\n",
            "7, 1988336, 7fd244d2e, 559352c81b92, 0\r\n",
            "17, 1988336, 7fd244d2d, 559352c81b92, 0\r\n",
            "29, 1988336, 7fd244d2b, 559352c81b92, 0\r\n",
            "18, 1988336, 7fd244d29, 559352c81b92, 0\r\n"
          ]
        }
      ]
    },
    {
      "cell_type": "code",
      "source": [
        "!pip install einops"
      ],
      "metadata": {
        "colab": {
          "base_uri": "https://localhost:8080/"
        },
        "id": "AeXzgLbrUnEs",
        "outputId": "42d9f95f-2607-45b4-e263-cc1c9ad2a4b3"
      },
      "execution_count": 11,
      "outputs": [
        {
          "output_type": "stream",
          "name": "stdout",
          "text": [
            "Collecting einops\n",
            "  Downloading einops-0.6.1-py3-none-any.whl (42 kB)\n",
            "\u001b[2K     \u001b[90m━━━━━━━━━━━━━━━━━━━━━━━━━━━━━━━━━━━━━━━━\u001b[0m \u001b[32m42.2/42.2 kB\u001b[0m \u001b[31m1.6 MB/s\u001b[0m eta \u001b[36m0:00:00\u001b[0m\n",
            "\u001b[?25hInstalling collected packages: einops\n",
            "Successfully installed einops-0.6.1\n"
          ]
        }
      ]
    },
    {
      "cell_type": "code",
      "source": [
        "!rm -rf ./res"
      ],
      "metadata": {
        "id": "eSl2AHotUywq"
      },
      "execution_count": 46,
      "outputs": []
    },
    {
      "cell_type": "code",
      "source": [
        "!./run_train.sh"
      ],
      "metadata": {
        "colab": {
          "base_uri": "https://localhost:8080/"
        },
        "id": "NIflPqSRTkLs",
        "outputId": "2958b7d4-5a1a-4e7c-df1e-c82d07a3521d"
      },
      "execution_count": 47,
      "outputs": [
        {
          "output_type": "stream",
          "name": "stdout",
          "text": [
            "TRAIN/VAL/TEST/SKIP: 2/1/2/0\n",
            "output.txt\n",
            "./output.txt\n",
            "train and validation\n",
            "preprocessing with context\n",
            "preprocessing with context\n",
            "-------------Data Proccessed------------\n",
            "Epoch: 1 - loss: 0.5683576257 - accuracy: 0.0000000000 - test_loss: 0.4183266044 -- test accuracy: 0.0000000000\n",
            "-------- Save Best Model! --------\n",
            "Epoch: 2 - loss: 0.3459271115 - accuracy: 0.0022648084 - test_loss: 0.2763504684 -- test accuracy: 0.2446633826\n",
            "-------- Save Best Model! --------\n",
            "Epoch: 3 - loss: 0.2322846042 - accuracy: 0.1829268293 - test_loss: 0.1886542976 -- test accuracy: 0.2446633826\n",
            "-------- Save Best Model! --------\n",
            "Epoch: 4 - loss: 0.1628503197 - accuracy: 0.1829268293 - test_loss: 0.1353429466 -- test accuracy: 0.2446633826\n",
            "-------- Save Best Model! --------\n",
            "Epoch: 5 - loss: 0.1203260286 - accuracy: 0.1829268293 - test_loss: 0.1020977199 -- test accuracy: 0.2446633826\n",
            "-------- Save Best Model! --------\n",
            "Epoch: 6 - loss: 0.0932987653 - accuracy: 0.1829268293 - test_loss: 0.0804193139 -- test accuracy: 0.2446633826\n",
            "-------- Save Best Model! --------\n",
            "Epoch: 7 - loss: 0.0753654708 - accuracy: 0.1829268293 - test_loss: 0.0656207517 -- test accuracy: 0.2446633826\n",
            "-------- Save Best Model! --------\n",
            "Epoch: 8 - loss: 0.0628509136 - accuracy: 0.1829268293 - test_loss: 0.0551174581 -- test accuracy: 0.2446633826\n",
            "-------- Save Best Model! --------\n",
            "Epoch: 9 - loss: 0.0538754973 - accuracy: 0.1829268293 - test_loss: 0.0473927677 -- test accuracy: 0.2446633826\n",
            "-------- Save Best Model! --------\n",
            "Epoch: 10 - loss: 0.0471635223 - accuracy: 0.1829268293 - test_loss: 0.0415318757 -- test accuracy: 0.2446633826\n",
            "-------- Save Best Model! --------\n",
            "Epoch: 11 - loss: 0.0420108739 - accuracy: 0.1829268293 - test_loss: 0.0369982891 -- test accuracy: 0.2446633826\n",
            "-------- Save Best Model! --------\n",
            "Epoch: 12 - loss: 0.0380679167 - accuracy: 0.1829268293 - test_loss: 0.0333939672 -- test accuracy: 0.2446633826\n",
            "-------- Save Best Model! --------\n",
            "Epoch: 13 - loss: 0.0348889024 - accuracy: 0.1829268293 - test_loss: 0.0305208448 -- test accuracy: 0.2446633826\n",
            "-------- Save Best Model! --------\n",
            "Epoch: 14 - loss: 0.0322451708 - accuracy: 0.1829268293 - test_loss: 0.0281487290 -- test accuracy: 0.2446633826\n",
            "-------- Save Best Model! --------\n",
            "Epoch: 15 - loss: 0.0301119625 - accuracy: 0.1829268293 - test_loss: 0.0261788681 -- test accuracy: 0.2446633826\n",
            "-------- Save Best Model! --------\n",
            "Epoch: 16 - loss: 0.0283502403 - accuracy: 0.1829268293 - test_loss: 0.0245429497 -- test accuracy: 0.2446633826\n",
            "-------- Save Best Model! --------\n",
            "Epoch: 17 - loss: 0.0268918842 - accuracy: 0.1829268293 - test_loss: 0.0231543325 -- test accuracy: 0.2446633826\n",
            "-------- Save Best Model! --------\n",
            "Epoch: 18 - loss: 0.0255592795 - accuracy: 0.1829268293 - test_loss: 0.0219570138 -- test accuracy: 0.2446633826\n",
            "-------- Save Best Model! --------\n",
            "Epoch: 19 - loss: 0.0245533109 - accuracy: 0.1829268293 - test_loss: 0.0209383599 -- test accuracy: 0.2446633826\n",
            "-------- Save Best Model! --------\n",
            "Epoch: 20 - loss: 0.0236171864 - accuracy: 0.1820557491 - test_loss: 0.0200402256 -- test accuracy: 0.2446633826\n",
            "-------- Save Best Model! --------\n",
            "Epoch: 21 - loss: 0.0228249978 - accuracy: 0.1829268293 - test_loss: 0.0192915518 -- test accuracy: 0.2446633826\n",
            "-------- Save Best Model! --------\n",
            "Epoch: 22 - loss: 0.0221216533 - accuracy: 0.1829268293 - test_loss: 0.0185756736 -- test accuracy: 0.2446633826\n",
            "-------- Save Best Model! --------\n",
            "Epoch: 23 - loss: 0.0214444437 - accuracy: 0.1829268293 - test_loss: 0.0179884482 -- test accuracy: 0.2446633826\n",
            "-------- Save Best Model! --------\n",
            "Epoch: 24 - loss: 0.0209256839 - accuracy: 0.1829268293 - test_loss: 0.0174337637 -- test accuracy: 0.2446633826\n",
            "-------- Save Best Model! --------\n",
            "Epoch: 25 - loss: 0.0204187954 - accuracy: 0.1825783972 - test_loss: 0.0170134617 -- test accuracy: 0.2446633826\n",
            "-------- Save Best Model! --------\n",
            "Epoch: 26 - loss: 0.0199476805 - accuracy: 0.1895470383 - test_loss: 0.0165880226 -- test accuracy: 0.2110016420\n",
            "-------- Save Best Model! --------\n",
            "Epoch: 27 - loss: 0.0195860966 - accuracy: 0.1890243902 - test_loss: 0.0161422675 -- test accuracy: 0.2446633826\n",
            "-------- Save Best Model! --------\n",
            "Epoch: 28 - loss: 0.0192835198 - accuracy: 0.1829268293 - test_loss: 0.0158183141 -- test accuracy: 0.2446633826\n",
            "-------- Save Best Model! --------\n",
            "Epoch: 29 - loss: 0.0189881886 - accuracy: 0.1829268293 - test_loss: 0.0155084681 -- test accuracy: 0.2446633826\n",
            "-------- Save Best Model! --------\n",
            "Epoch: 30 - loss: 0.0186308680 - accuracy: 0.1836236934 - test_loss: 0.0152190195 -- test accuracy: 0.2110016420\n",
            "-------- Save Best Model! --------\n",
            "Epoch: 31 - loss: 0.0183887580 - accuracy: 0.2067944251 - test_loss: 0.0150025452 -- test accuracy: 0.2446633826\n",
            "-------- Save Best Model! --------\n",
            "Epoch: 32 - loss: 0.0181554768 - accuracy: 0.1865853659 - test_loss: 0.0147331569 -- test accuracy: 0.2446633826\n",
            "-------- Save Best Model! --------\n",
            "Epoch: 33 - loss: 0.0179575000 - accuracy: 0.1886759582 - test_loss: 0.0145194085 -- test accuracy: 0.2446633826\n",
            "-------- Save Best Model! --------\n",
            "Epoch: 34 - loss: 0.0177580018 - accuracy: 0.1829268293 - test_loss: 0.0143000141 -- test accuracy: 0.2446633826\n",
            "-------- Save Best Model! --------\n",
            "Epoch: 35 - loss: 0.0175739076 - accuracy: 0.1832752613 - test_loss: 0.0141245943 -- test accuracy: 0.2446633826\n",
            "-------- Save Best Model! --------\n",
            "Epoch: 36 - loss: 0.0173651382 - accuracy: 0.1829268293 - test_loss: 0.0139907351 -- test accuracy: 0.2446633826\n",
            "-------- Save Best Model! --------\n",
            "Epoch: 37 - loss: 0.0172282484 - accuracy: 0.1886759582 - test_loss: 0.0137766141 -- test accuracy: 0.2446633826\n",
            "-------- Save Best Model! --------\n",
            "Epoch: 38 - loss: 0.0170953130 - accuracy: 0.1857142857 - test_loss: 0.0137071451 -- test accuracy: 0.2610837438\n",
            "-------- Save Best Model! --------\n",
            "Epoch: 39 - loss: 0.0169854615 - accuracy: 0.1939024390 - test_loss: 0.0134952823 -- test accuracy: 0.2446633826\n",
            "-------- Save Best Model! --------\n",
            "Epoch: 40 - loss: 0.0168088486 - accuracy: 0.1904181185 - test_loss: 0.0133682007 -- test accuracy: 0.2446633826\n",
            "-------- Save Best Model! --------\n",
            "Epoch: 41 - loss: 0.0167186463 - accuracy: 0.1944250871 - test_loss: 0.0133030752 -- test accuracy: 0.2446633826\n",
            "-------- Save Best Model! --------\n",
            "Epoch: 42 - loss: 0.0166153240 - accuracy: 0.1893728223 - test_loss: 0.0131831964 -- test accuracy: 0.2307060755\n",
            "-------- Save Best Model! --------\n",
            "Epoch: 43 - loss: 0.0165190479 - accuracy: 0.1878048780 - test_loss: 0.0130501503 -- test accuracy: 0.2446633826\n",
            "-------- Save Best Model! --------\n",
            "Epoch: 44 - loss: 0.0164222904 - accuracy: 0.2055749129 - test_loss: 0.0129627839 -- test accuracy: 0.2446633826\n",
            "-------- Save Best Model! --------\n",
            "Epoch: 45 - loss: 0.0162962661 - accuracy: 0.2013937282 - test_loss: 0.0128870083 -- test accuracy: 0.2446633826\n",
            "-------- Save Best Model! --------\n",
            "Epoch: 46 - loss: 0.0163236303 - accuracy: 0.1909407666 - test_loss: 0.0128146641 -- test accuracy: 0.2315270936\n",
            "-------- Save Best Model! --------\n",
            "Epoch: 47 - loss: 0.0161774646 - accuracy: 0.1876306620 - test_loss: 0.0127095509 -- test accuracy: 0.2446633826\n",
            "-------- Save Best Model! --------\n",
            "Epoch: 48 - loss: 0.0160501257 - accuracy: 0.1956445993 - test_loss: 0.0126918828 -- test accuracy: 0.2446633826\n",
            "-------- Save Best Model! --------\n",
            "Epoch: 49 - loss: 0.0160635834 - accuracy: 0.1909407666 - test_loss: 0.0125973726 -- test accuracy: 0.2446633826\n",
            "-------- Save Best Model! --------\n",
            "Epoch: 50 - loss: 0.0160047721 - accuracy: 0.1921602787 - test_loss: 0.0125053806 -- test accuracy: 0.2446633826\n",
            "-------- Save Best Model! --------\n",
            "Epoch: 51 - loss: 0.0158564952 - accuracy: 0.1902439024 - test_loss: 0.0124234334 -- test accuracy: 0.2356321839\n",
            "-------- Save Best Model! --------\n",
            "Epoch: 52 - loss: 0.0158368933 - accuracy: 0.1904181185 - test_loss: 0.0124841982 -- test accuracy: 0.2446633826\n",
            "Early Stop Left: 4\n",
            "Epoch: 53 - loss: 0.0157449222 - accuracy: 0.1980836237 - test_loss: 0.0123224484 -- test accuracy: 0.2446633826\n",
            "-------- Save Best Model! --------\n",
            "Epoch: 54 - loss: 0.0157564561 - accuracy: 0.1956445993 - test_loss: 0.0122711444 -- test accuracy: 0.2446633826\n",
            "-------- Save Best Model! --------\n",
            "Epoch: 55 - loss: 0.0157081872 - accuracy: 0.1961672474 - test_loss: 0.0122221803 -- test accuracy: 0.2282430213\n",
            "-------- Save Best Model! --------\n",
            "Epoch: 56 - loss: 0.0157590260 - accuracy: 0.1895470383 - test_loss: 0.0122439519 -- test accuracy: 0.2536945813\n",
            "Early Stop Left: 4\n",
            "Epoch: 57 - loss: 0.0156166843 - accuracy: 0.1932055749 - test_loss: 0.0121401105 -- test accuracy: 0.2307060755\n",
            "-------- Save Best Model! --------\n",
            "Epoch: 58 - loss: 0.0155576510 - accuracy: 0.2006968641 - test_loss: 0.0121302400 -- test accuracy: 0.2446633826\n",
            "-------- Save Best Model! --------\n",
            "Epoch: 59 - loss: 0.0155005091 - accuracy: 0.2020905923 - test_loss: 0.0121186757 -- test accuracy: 0.2397372742\n",
            "-------- Save Best Model! --------\n",
            "Epoch: 60 - loss: 0.0155305226 - accuracy: 0.1968641115 - test_loss: 0.0121043783 -- test accuracy: 0.2290640394\n",
            "-------- Save Best Model! --------\n",
            "Epoch: 61 - loss: 0.0154140040 - accuracy: 0.1954703833 - test_loss: 0.0120037910 -- test accuracy: 0.2446633826\n",
            "-------- Save Best Model! --------\n",
            "Epoch: 62 - loss: 0.0154088675 - accuracy: 0.1944250871 - test_loss: 0.0120145010 -- test accuracy: 0.2446633826\n",
            "Early Stop Left: 4\n",
            "Epoch: 63 - loss: 0.0153971146 - accuracy: 0.2006968641 - test_loss: 0.0119656613 -- test accuracy: 0.2446633826\n",
            "-------- Save Best Model! --------\n",
            "Epoch: 64 - loss: 0.0153059181 - accuracy: 0.2015679443 - test_loss: 0.0119163325 -- test accuracy: 0.2446633826\n",
            "-------- Save Best Model! --------\n",
            "Epoch: 65 - loss: 0.0153059384 - accuracy: 0.1994773519 - test_loss: 0.0119034333 -- test accuracy: 0.2446633826\n",
            "-------- Save Best Model! --------\n",
            "Epoch: 66 - loss: 0.0152227650 - accuracy: 0.1998257840 - test_loss: 0.0119101115 -- test accuracy: 0.2651888342\n",
            "Early Stop Left: 4\n",
            "Epoch: 67 - loss: 0.0152742956 - accuracy: 0.2050522648 - test_loss: 0.0120158661 -- test accuracy: 0.2290640394\n",
            "Early Stop Left: 3\n",
            "Epoch: 68 - loss: 0.0152153652 - accuracy: 0.2088850174 - test_loss: 0.0119829491 -- test accuracy: 0.2446633826\n",
            "Early Stop Left: 2\n",
            "Epoch: 69 - loss: 0.0151539010 - accuracy: 0.2020905923 - test_loss: 0.0119397961 -- test accuracy: 0.2446633826\n",
            "Early Stop Left: 1\n",
            "Epoch: 70 - loss: 0.0151333021 - accuracy: 0.2038327526 - test_loss: 0.0119040610 -- test accuracy: 0.2446633826\n",
            "Early Stop Left: 0\n",
            "-------- Early Stop! --------\n",
            "Validation start\n",
            "predicting\n",
            "100% 5/5 [00:00<00:00, 81.94it/s]\n",
            "throttleing by precision-recall curve\n",
            "Best micro threshold=0.443137, fscore=0.660\n",
            "p,r,f1: 0.6226501604768455 0.6862051541182416 0.6528846153846154\n",
            "throttleing by fixed threshold: 0.5\n",
            "p,r,f1: 0.7200328407224958 0.4431531076301162 0.5486393493900532\n",
            "Done: results saved at: ./res/1_trans_128_cx/train/output.txt.model.pth.val_res.csv\n",
            "Generation start\n",
            "preprocessing_gen with context\n",
            "predicting\n",
            "100% 11/11 [00:00<00:00, 57.39it/s]\n",
            "post_processing, opt_threshold<0.9\n",
            "          app  ...  median\n",
            "0  output.txt  ...     2.0\n",
            "\n",
            "[1 rows x 5 columns]\n",
            "Done: results saved at: ./res/1_trans_128_cx/train/output.txt.model.pth.degree_stats.csv\n",
            "done for app output.txt\n"
          ]
        }
      ]
    },
    {
      "cell_type": "code",
      "source": [],
      "metadata": {
        "id": "Wz7VaEAQUnbl"
      },
      "execution_count": null,
      "outputs": []
    },
    {
      "cell_type": "code",
      "source": [],
      "metadata": {
        "id": "RB1FfiL5UnWj"
      },
      "execution_count": null,
      "outputs": []
    }
  ]
}